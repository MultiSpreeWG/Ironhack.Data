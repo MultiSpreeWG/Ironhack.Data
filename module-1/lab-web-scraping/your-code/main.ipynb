{
 "cells": [
  {
   "cell_type": "markdown",
   "metadata": {},
   "source": [
    "# Web Scraping Lab\n",
    "\n",
    "You will find in this notebook some scrapy exercises to practise your scraping skills.\n",
    "\n",
    "**Tips:**\n",
    "\n",
    "- Check the response status code for each request to ensure you have obtained the intended contennt.\n",
    "- Print the response text in each request to understand the kind of info you are getting and its format.\n",
    "- Check for patterns in the response text to extract the data/info requested in each question.\n",
    "- Visit each url and take a look at its source through Chrome DevTools. You'll need to identify the html tags, special class names etc. used for the html content you are expected to extract."
   ]
  },
  {
   "cell_type": "markdown",
   "metadata": {},
   "source": [
    "- [Requests library](http://docs.python-requests.org/en/master/#the-user-guide) documentation \n",
    "- [Beautiful Soup Doc](https://www.crummy.com/software/BeautifulSoup/bs4/doc/)\n",
    "- [Urllib](https://docs.python.org/3/library/urllib.html#module-urllib)\n",
    "- [re lib](https://docs.python.org/3/library/re.html)\n",
    "- [lxml lib](https://lxml.de/)\n",
    "- [Scrapy](https://scrapy.org/)\n",
    "- [List of HTTP status codes](https://en.wikipedia.org/wiki/List_of_HTTP_status_codes)\n",
    "- [HTML basics](http://www.simplehtmlguide.com/cheatsheet.php)\n",
    "- [CSS basics](https://www.cssbasics.com/#page_start)"
   ]
  },
  {
   "cell_type": "markdown",
   "metadata": {},
   "source": [
    "#### Below are the libraries and modules you may need. `requests`,  `BeautifulSoup` and `pandas` are imported for you. If you prefer to use additional libraries feel free to uncomment them."
   ]
  },
  {
   "cell_type": "code",
   "execution_count": 2,
   "metadata": {},
   "outputs": [],
   "source": [
    "import requests\n",
    "from bs4 import BeautifulSoup\n",
    "import pandas as pd\n",
    "from pprint import pprint\n",
    "from lxml import html\n",
    "from lxml.html import fromstring\n",
    "import urllib.request\n",
    "from urllib.request import urlopen\n",
    "import random\n",
    "import re\n",
    "import scrapy"
   ]
  },
  {
   "cell_type": "markdown",
   "metadata": {},
   "source": [
    "#### Download, parse (using BeautifulSoup), and print the content from the Trending Developers page from GitHub:"
   ]
  },
  {
   "cell_type": "code",
   "execution_count": 4,
   "metadata": {},
   "outputs": [],
   "source": [
    "# This is the url you will scrape in this exercise\n",
    "url = 'https://github.com/trending/developers'"
   ]
  },
  {
   "cell_type": "code",
   "execution_count": 7,
   "metadata": {},
   "outputs": [],
   "source": [
    "#your code\n",
    "\n",
    "web_content = requests.get(url).content\n",
    "soup = BeautifulSoup(web_content, \"lxml\")"
   ]
  },
  {
   "cell_type": "markdown",
   "metadata": {},
   "source": [
    "#### Display the names of the trending developers retrieved in the previous step.\n",
    "\n",
    "Your output should be a Python list of developer names. Each name should not contain any html tag.\n",
    "\n",
    "**Instructions:**\n",
    "\n",
    "1. Find out the html tag and class names used for the developer names. You can achieve this using Chrome DevTools.\n",
    "\n",
    "1. Use BeautifulSoup to extract all the html elements that contain the developer names.\n",
    "\n",
    "1. Use string manipulation techniques to replace whitespaces and linebreaks (i.e. `\\n`) in the *text* of each html element. Use a list to store the clean names.\n",
    "\n",
    "1. Print the list of names.\n",
    "\n",
    "Your output should look like below:\n",
    "\n",
    "```\n",
    "['trimstray (@trimstray)',\n",
    " 'joewalnes (JoeWalnes)',\n",
    " 'charlax (Charles-AxelDein)',\n",
    " 'ForrestKnight (ForrestKnight)',\n",
    " 'revery-ui (revery-ui)',\n",
    " 'alibaba (Alibaba)',\n",
    " 'Microsoft (Microsoft)',\n",
    " 'github (GitHub)',\n",
    " 'facebook (Facebook)',\n",
    " 'boazsegev (Bo)',\n",
    " 'google (Google)',\n",
    " 'cloudfetch',\n",
    " 'sindresorhus (SindreSorhus)',\n",
    " 'tensorflow',\n",
    " 'apache (TheApacheSoftwareFoundation)',\n",
    " 'DevonCrawford (DevonCrawford)',\n",
    " 'ARMmbed (ArmMbed)',\n",
    " 'vuejs (vuejs)',\n",
    " 'fastai (fast.ai)',\n",
    " 'QiShaoXuan (Qi)',\n",
    " 'joelparkerhenderson (JoelParkerHenderson)',\n",
    " 'torvalds (LinusTorvalds)',\n",
    " 'CyC2018',\n",
    " 'komeiji-satori (神楽坂覚々)',\n",
    " 'script-8']\n",
    " ```"
   ]
  },
  {
   "cell_type": "code",
   "execution_count": 35,
   "metadata": {},
   "outputs": [
    {
     "data": {
      "text/plain": [
       "['Erik Rasmussen',\n",
       " 'Yuta Hiroto',\n",
       " 'James Montemagno',\n",
       " 'Maarten Breddels',\n",
       " 'Rob Cowart',\n",
       " 'Klaus Post',\n",
       " 'Kosh Sergani',\n",
       " 'siddontang',\n",
       " 'cytopia',\n",
       " '卡色',\n",
       " 'John Ryan',\n",
       " 'Aleksey Bilogur',\n",
       " 'Abdellatif Ait boudad',\n",
       " 'Carlos Sanchez',\n",
       " 'Anton Babenko',\n",
       " 'Vladimir Mihailenco',\n",
       " 'Vincenzo Chianese',\n",
       " 'Federico Zivolo',\n",
       " 'Kent C. Dodds',\n",
       " 'Robert Mosolgo',\n",
       " 'Ron Buckton',\n",
       " 'Matthew Johnson',\n",
       " 'radare',\n",
       " 'Arnout Engelen',\n",
       " 'Ovilia']"
      ]
     },
     "execution_count": 35,
     "metadata": {},
     "output_type": "execute_result"
    }
   ],
   "source": [
    "table = soup.find_all('h1',{'class':'h3 lh-condensed'})\n",
    "raw = [element.text for element in table]\n",
    "raw"
   ]
  },
  {
   "cell_type": "markdown",
   "metadata": {},
   "source": [
    "#### Display the trending Python repositories in GitHub\n",
    "\n",
    "The steps to solve this problem is similar to the previous one except that you need to find out the repository names instead of developer names."
   ]
  },
  {
   "cell_type": "code",
   "execution_count": 36,
   "metadata": {},
   "outputs": [],
   "source": [
    "# This is the url you will scrape in this exercise\n",
    "url = 'https://github.com/trending/python?since=daily'"
   ]
  },
  {
   "cell_type": "code",
   "execution_count": 37,
   "metadata": {},
   "outputs": [],
   "source": [
    "url_respo = requests.get(url).content\n",
    "soup = BeautifulSoup(url_respo, \"lxml\")"
   ]
  },
  {
   "cell_type": "code",
   "execution_count": 76,
   "metadata": {},
   "outputs": [],
   "source": [
    "table = soup.find_all('h1',{'class':'h3 lh-condensed'})\n",
    "rows = [row.text.strip().split(\"\\n\") for row in table]\n"
   ]
  },
  {
   "cell_type": "markdown",
   "metadata": {},
   "source": [
    "#### Display all the image links from Walt Disney wikipedia page"
   ]
  },
  {
   "cell_type": "code",
   "execution_count": 77,
   "metadata": {},
   "outputs": [],
   "source": [
    "# This is the url you will scrape in this exercise\n",
    "url = 'https://en.wikipedia.org/wiki/Walt_Disney'"
   ]
  },
  {
   "cell_type": "code",
   "execution_count": 119,
   "metadata": {},
   "outputs": [],
   "source": [
    "url_respo = requests.get(url).content\n",
    "soup = BeautifulSoup(url_respo, \"lxml\")"
   ]
  },
  {
   "cell_type": "code",
   "execution_count": 127,
   "metadata": {},
   "outputs": [
    {
     "data": {
      "text/plain": [
       "['/wiki/File:Walt_Disney_1946.JPG',\n",
       " '/wiki/File:Walt_Disney_1942_signature.svg',\n",
       " '/wiki/File:Walt_Disney_envelope_ca._1921.jpg',\n",
       " '/wiki/File:Trolley_Troubles_poster.jpg',\n",
       " '/wiki/File:Walt_Disney_and_his_cartoon_creation_%22Mickey_Mouse%22_-_National_Board_of_Review_Magazine.jpg',\n",
       " '/wiki/File:Steamboat-willie.jpg',\n",
       " '/wiki/File:Walt_Disney_1935.jpg',\n",
       " '/wiki/File:Walt_Disney_Snow_white_1937_trailer_screenshot_(13).jpg',\n",
       " '/wiki/File:Disney_drawing_goofy.jpg',\n",
       " '/wiki/File:DisneySchiphol1951.jpg',\n",
       " '/wiki/File:WaltDisneyplansDisneylandDec1954.jpg',\n",
       " '/wiki/File:Walt_disney_portrait_right.jpg',\n",
       " '/wiki/File:Walt_Disney_Grave.JPG',\n",
       " '/wiki/File:Roy_O._Disney_with_Company_at_Press_Conference.jpg',\n",
       " '/wiki/File:Disney_Display_Case.JPG',\n",
       " '/wiki/File:Disney1968.jpg',\n",
       " '/wiki/File:Animation_disc.svg',\n",
       " '/wiki/File:P_vip.svg',\n",
       " '/wiki/File:Magic_Kingdom_castle.jpg',\n",
       " '/wiki/File:Video-x-generic.svg',\n",
       " '/wiki/File:Flag_of_Los_Angeles_County,_California.svg',\n",
       " '/wiki/File:USA_flag_on_television.svg']"
      ]
     },
     "execution_count": 127,
     "metadata": {},
     "output_type": "execute_result"
    }
   ],
   "source": [
    "link = list()\n",
    "for d in soup.find_all('a',{'class':'image'}):\n",
    "    if \"href\" in d.attrs:\n",
    "        link.append(d.attrs[\"href\"])\n",
    "link"
   ]
  },
  {
   "cell_type": "markdown",
   "metadata": {},
   "source": [
    "#### Retrieve an arbitary Wikipedia page of \"Python\" and create a list of links on that page"
   ]
  },
  {
   "cell_type": "code",
   "execution_count": 128,
   "metadata": {},
   "outputs": [],
   "source": [
    "# This is the url you will scrape in this exercise\n",
    "url ='https://en.wikipedia.org/wiki/Python' "
   ]
  },
  {
   "cell_type": "code",
   "execution_count": 129,
   "metadata": {},
   "outputs": [],
   "source": [
    "url_respo = requests.get(url).content\n",
    "soup = BeautifulSoup(url_respo, \"lxml\")"
   ]
  },
  {
   "cell_type": "code",
   "execution_count": 132,
   "metadata": {},
   "outputs": [],
   "source": [
    "link = list()\n",
    "for d in soup.find_all('a',{'class':'image'}):\n",
    "    if \"href\" in d.attrs:\n",
    "        link.append(d.attrs[\"href\"])\n",
    "######Not solved#######"
   ]
  },
  {
   "cell_type": "markdown",
   "metadata": {},
   "source": [
    "#### Number of Titles that have changed in the United States Code since its last release point "
   ]
  },
  {
   "cell_type": "code",
   "execution_count": null,
   "metadata": {},
   "outputs": [],
   "source": [
    "# This is the url you will scrape in this exercise\n",
    "url = 'http://uscode.house.gov/download/download.shtml'"
   ]
  },
  {
   "cell_type": "code",
   "execution_count": null,
   "metadata": {},
   "outputs": [],
   "source": [
    "#your code"
   ]
  },
  {
   "cell_type": "markdown",
   "metadata": {},
   "source": [
    "#### A Python list with the top ten FBI's Most Wanted names "
   ]
  },
  {
   "cell_type": "code",
   "execution_count": 134,
   "metadata": {},
   "outputs": [],
   "source": [
    "# This is the url you will scrape in this exercise\n",
    "url = 'https://www.fbi.gov/wanted/topten'"
   ]
  },
  {
   "cell_type": "code",
   "execution_count": 135,
   "metadata": {},
   "outputs": [],
   "source": [
    "url_respo = requests.get(url).content\n",
    "soup = BeautifulSoup(url_respo, \"lxml\")"
   ]
  },
  {
   "cell_type": "code",
   "execution_count": 148,
   "metadata": {},
   "outputs": [
    {
     "data": {
      "text/plain": [
       "['ALEXIS FLORES',\n",
       " 'EUGENE PALMER',\n",
       " 'SANTIAGO VILLALBA MEDEROS',\n",
       " 'ROBERT WILLIAM FISHER',\n",
       " 'BHADRESHKUMAR CHETANBHAI PATEL',\n",
       " 'ARNOLDO JIMENEZ',\n",
       " 'ALEJANDRO ROSALES CASTILLO',\n",
       " 'YASER ABDEL SAID',\n",
       " 'JASON DEREK BROWN',\n",
       " 'RAFAEL CARO-QUINTERO']"
      ]
     },
     "execution_count": 148,
     "metadata": {},
     "output_type": "execute_result"
    }
   ],
   "source": [
    "content = soup.find_all(\"h3\",{\"class\":\"title\"})\n",
    "rows = [row.text.strip().split(\"\\n\") for row in content]\n",
    "names = list()\n",
    "for twod in rows:\n",
    "    for name in twod:\n",
    "        names.append(name)\n",
    "names"
   ]
  },
  {
   "cell_type": "markdown",
   "metadata": {},
   "source": [
    "####  20 latest earthquakes info (date, time, latitude, longitude and region name) by the EMSC as a pandas dataframe"
   ]
  },
  {
   "cell_type": "code",
   "execution_count": 272,
   "metadata": {},
   "outputs": [],
   "source": [
    "# This is the url you will scrape in this exercise\n",
    "url = 'https://www.emsc-csem.org/Earthquake/'"
   ]
  },
  {
   "cell_type": "code",
   "execution_count": 273,
   "metadata": {},
   "outputs": [],
   "source": [
    "url_cont = requests.get(url).content\n",
    "soup = BeautifulSoup(url_cont, \"lxml\")"
   ]
  },
  {
   "cell_type": "code",
   "execution_count": 292,
   "metadata": {},
   "outputs": [],
   "source": [
    "#get date\n",
    "import re \n",
    "content_dat = soup.find_all(\"td\",{\"class\":\"tabev6\"})\n",
    "date = list()\n",
    "rows = [row.text.strip().split(\"\\n\") for row in content_dat]\n",
    "for row in rows:\n",
    "    for ro in row:\n",
    "        #print(bool(re.findall(\"earthquake\", ro)))\n",
    "        try: \n",
    "            ro = re.findall(\"[0-9]*-[0-9]*-[0-9]*\" ,ro)\n",
    "        finally:\n",
    "            date.append(ro)\n",
    "df_date = pd.DataFrame(date)"
   ]
  },
  {
   "cell_type": "code",
   "execution_count": 275,
   "metadata": {},
   "outputs": [],
   "source": [
    "#get time\n",
    "content_tim = soup.find_all(\"td\",{\"class\":\"tabev6\"})\n",
    "time = list()\n",
    "rows = [row.text.strip().split(\"\\n\") for row in content_tim]\n",
    "for row in rows:\n",
    "    for ro in row:\n",
    "        #print(bool(re.findall(\"earthquake\", ro)))\n",
    "        try: \n",
    "            ro = re.findall(\"[0-9]*:[0-9]*:[0-9]*\" ,ro)\n",
    "        finally:\n",
    "            time.append(ro)\n",
    "df_time = pd.DataFrame(time)"
   ]
  },
  {
   "cell_type": "code",
   "execution_count": 276,
   "metadata": {},
   "outputs": [],
   "source": [
    "#get latitude\n",
    "\n",
    "content_lat = soup.find_all(\"td\",{\"class\":\"tabev1\"})\n",
    "rows = [row.text.strip().split(\"\\n\") for row in content_lat]\n",
    "\n",
    "content_lat_dir = soup.find_all(\"td\",{\"class\":\"tabev2\"})\n",
    "rows_dir = [row.text.strip().split(\"\\n\") for row in content_lat_dir]\n",
    "row_dir_new = list()\n",
    "for row in rows_dir: \n",
    "    for ro in row:\n",
    "        if bool(re.findall(\"[0-9]\", ro)) == False:\n",
    "            row_dir_new.append(ro)\n",
    "            \n",
    "df_lat_num = pd.DataFrame(rows)\n",
    "df_lat_dir = pd.DataFrame(row_dir_new)"
   ]
  },
  {
   "cell_type": "code",
   "execution_count": 277,
   "metadata": {},
   "outputs": [],
   "source": [
    "#get region\n",
    "\n",
    "content_reg = soup.find_all(\"td\",{\"class\":\"tb_region\"})\n",
    "rows = [row.text.strip().split(\"\\n\") for row in content_reg]\n",
    "df_Regions = pd.DataFrame(rows)"
   ]
  },
  {
   "cell_type": "code",
   "execution_count": 302,
   "metadata": {},
   "outputs": [
    {
     "data": {
      "text/html": [
       "<div>\n",
       "<style scoped>\n",
       "    .dataframe tbody tr th:only-of-type {\n",
       "        vertical-align: middle;\n",
       "    }\n",
       "\n",
       "    .dataframe tbody tr th {\n",
       "        vertical-align: top;\n",
       "    }\n",
       "\n",
       "    .dataframe thead th {\n",
       "        text-align: right;\n",
       "    }\n",
       "</style>\n",
       "<table border=\"1\" class=\"dataframe\">\n",
       "  <thead>\n",
       "    <tr style=\"text-align: right;\">\n",
       "      <th></th>\n",
       "      <th>Date</th>\n",
       "      <th>Time</th>\n",
       "      <th>Direction</th>\n",
       "      <th>Degrees</th>\n",
       "      <th>Location</th>\n",
       "    </tr>\n",
       "  </thead>\n",
       "  <tbody>\n",
       "    <tr>\n",
       "      <th>0</th>\n",
       "      <td>2019-06-19</td>\n",
       "      <td>12:16:09</td>\n",
       "      <td>S</td>\n",
       "      <td>1.49</td>\n",
       "      <td>NEAR COAST OF ECUADOR</td>\n",
       "    </tr>\n",
       "    <tr>\n",
       "      <th>1</th>\n",
       "      <td>2019-06-19</td>\n",
       "      <td>12:05:05</td>\n",
       "      <td>W</td>\n",
       "      <td>80.94</td>\n",
       "      <td>NICOBAR ISLANDS, INDIA REGION</td>\n",
       "    </tr>\n",
       "    <tr>\n",
       "      <th>2</th>\n",
       "      <td>2019-06-19</td>\n",
       "      <td>11:59:01</td>\n",
       "      <td>N</td>\n",
       "      <td>6.80</td>\n",
       "      <td>JUJUY, ARGENTINA</td>\n",
       "    </tr>\n",
       "    <tr>\n",
       "      <th>3</th>\n",
       "      <td>2019-06-19</td>\n",
       "      <td>11:37:58</td>\n",
       "      <td>E</td>\n",
       "      <td>93.64</td>\n",
       "      <td>SWITZERLAND</td>\n",
       "    </tr>\n",
       "    <tr>\n",
       "      <th>4</th>\n",
       "      <td>2019-06-19</td>\n",
       "      <td>11:36:16</td>\n",
       "      <td>S</td>\n",
       "      <td>23.77</td>\n",
       "      <td>TURKEY-SYRIA-IRAQ BORDER REGION</td>\n",
       "    </tr>\n",
       "    <tr>\n",
       "      <th>5</th>\n",
       "      <td>2019-06-19</td>\n",
       "      <td>11:33:02</td>\n",
       "      <td>W</td>\n",
       "      <td>66.56</td>\n",
       "      <td>DOMINICAN REPUBLIC</td>\n",
       "    </tr>\n",
       "    <tr>\n",
       "      <th>6</th>\n",
       "      <td>2019-06-19</td>\n",
       "      <td>10:39:10</td>\n",
       "      <td>N</td>\n",
       "      <td>46.43</td>\n",
       "      <td>CENTRAL ALASKA</td>\n",
       "    </tr>\n",
       "    <tr>\n",
       "      <th>7</th>\n",
       "      <td>2019-06-19</td>\n",
       "      <td>10:05:11</td>\n",
       "      <td>E</td>\n",
       "      <td>9.76</td>\n",
       "      <td>NEAR THE COAST OF WESTERN TURKEY</td>\n",
       "    </tr>\n",
       "    <tr>\n",
       "      <th>8</th>\n",
       "      <td>2019-06-19</td>\n",
       "      <td>10:00:48</td>\n",
       "      <td>N</td>\n",
       "      <td>37.84</td>\n",
       "      <td>OFFSHORE GUERRERO, MEXICO</td>\n",
       "    </tr>\n",
       "    <tr>\n",
       "      <th>9</th>\n",
       "      <td>2019-06-19</td>\n",
       "      <td>10:00:05</td>\n",
       "      <td>E</td>\n",
       "      <td>42.73</td>\n",
       "      <td>FRANCE</td>\n",
       "    </tr>\n",
       "    <tr>\n",
       "      <th>10</th>\n",
       "      <td>2019-06-19</td>\n",
       "      <td>09:45:30</td>\n",
       "      <td>N</td>\n",
       "      <td>18.70</td>\n",
       "      <td>CENTRAL ITALY</td>\n",
       "    </tr>\n",
       "    <tr>\n",
       "      <th>11</th>\n",
       "      <td>2019-06-19</td>\n",
       "      <td>09:45:08</td>\n",
       "      <td>W</td>\n",
       "      <td>69.67</td>\n",
       "      <td>ANTOFAGASTA, CHILE</td>\n",
       "    </tr>\n",
       "    <tr>\n",
       "      <th>12</th>\n",
       "      <td>2019-06-19</td>\n",
       "      <td>09:43:09</td>\n",
       "      <td>N</td>\n",
       "      <td>63.12</td>\n",
       "      <td>IONIAN SEA</td>\n",
       "    </tr>\n",
       "    <tr>\n",
       "      <th>13</th>\n",
       "      <td>2019-06-19</td>\n",
       "      <td>08:49:36</td>\n",
       "      <td>W</td>\n",
       "      <td>150.48</td>\n",
       "      <td>OAXACA, MEXICO</td>\n",
       "    </tr>\n",
       "    <tr>\n",
       "      <th>14</th>\n",
       "      <td>2019-06-19</td>\n",
       "      <td>08:20:25</td>\n",
       "      <td>N</td>\n",
       "      <td>39.02</td>\n",
       "      <td>ISLAND OF HAWAII, HAWAII</td>\n",
       "    </tr>\n",
       "    <tr>\n",
       "      <th>15</th>\n",
       "      <td>2019-06-19</td>\n",
       "      <td>08:18:00</td>\n",
       "      <td>E</td>\n",
       "      <td>26.06</td>\n",
       "      <td>NEAR COAST OF CENTRAL PERU</td>\n",
       "    </tr>\n",
       "    <tr>\n",
       "      <th>16</th>\n",
       "      <td>2019-06-19</td>\n",
       "      <td>08:01:39</td>\n",
       "      <td>N</td>\n",
       "      <td>17.09</td>\n",
       "      <td>ANTOFAGASTA, CHILE</td>\n",
       "    </tr>\n",
       "    <tr>\n",
       "      <th>17</th>\n",
       "      <td>2019-06-19</td>\n",
       "      <td>07:34:57</td>\n",
       "      <td>W</td>\n",
       "      <td>101.17</td>\n",
       "      <td>PUERTO RICO REGION</td>\n",
       "    </tr>\n",
       "    <tr>\n",
       "      <th>18</th>\n",
       "      <td>2019-06-19</td>\n",
       "      <td>07:21:08</td>\n",
       "      <td>N</td>\n",
       "      <td>47.27</td>\n",
       "      <td>TURKEY-IRAN BORDER REGION</td>\n",
       "    </tr>\n",
       "    <tr>\n",
       "      <th>19</th>\n",
       "      <td>2019-06-19</td>\n",
       "      <td>07:09:28</td>\n",
       "      <td>E</td>\n",
       "      <td>5.99</td>\n",
       "      <td>SOUTHERN GREECE</td>\n",
       "    </tr>\n",
       "    <tr>\n",
       "      <th>20</th>\n",
       "      <td>2019-06-19</td>\n",
       "      <td>07:01:42</td>\n",
       "      <td>N</td>\n",
       "      <td>42.83</td>\n",
       "      <td>KERMADEC ISLANDS, NEW ZEALAND</td>\n",
       "    </tr>\n",
       "    <tr>\n",
       "      <th>21</th>\n",
       "      <td>2019-06-19</td>\n",
       "      <td>06:41:52</td>\n",
       "      <td>E</td>\n",
       "      <td>13.58</td>\n",
       "      <td>ALBANIA</td>\n",
       "    </tr>\n",
       "    <tr>\n",
       "      <th>22</th>\n",
       "      <td>2019-06-19</td>\n",
       "      <td>06:38:35</td>\n",
       "      <td>S</td>\n",
       "      <td>21.43</td>\n",
       "      <td>WESTERN TURKEY</td>\n",
       "    </tr>\n",
       "    <tr>\n",
       "      <th>23</th>\n",
       "      <td>2019-06-19</td>\n",
       "      <td>06:19:12</td>\n",
       "      <td>W</td>\n",
       "      <td>68.47</td>\n",
       "      <td>TARAPACA, CHILE</td>\n",
       "    </tr>\n",
       "    <tr>\n",
       "      <th>24</th>\n",
       "      <td>2019-06-19</td>\n",
       "      <td>06:03:43</td>\n",
       "      <td>N</td>\n",
       "      <td>37.54</td>\n",
       "      <td>TONGA</td>\n",
       "    </tr>\n",
       "    <tr>\n",
       "      <th>25</th>\n",
       "      <td>2019-06-19</td>\n",
       "      <td>05:47:22</td>\n",
       "      <td>E</td>\n",
       "      <td>20.72</td>\n",
       "      <td>WESTERN TEXAS</td>\n",
       "    </tr>\n",
       "    <tr>\n",
       "      <th>26</th>\n",
       "      <td>2019-06-19</td>\n",
       "      <td>05:38:19</td>\n",
       "      <td>N</td>\n",
       "      <td>16.32</td>\n",
       "      <td>CENTRAL TURKEY</td>\n",
       "    </tr>\n",
       "    <tr>\n",
       "      <th>27</th>\n",
       "      <td>2019-06-19</td>\n",
       "      <td>05:17:06</td>\n",
       "      <td>W</td>\n",
       "      <td>95.11</td>\n",
       "      <td>OFFSHORE ANTOFAGASTA, CHILE</td>\n",
       "    </tr>\n",
       "    <tr>\n",
       "      <th>28</th>\n",
       "      <td>2019-06-19</td>\n",
       "      <td>05:06:47</td>\n",
       "      <td>N</td>\n",
       "      <td>19.21</td>\n",
       "      <td>ALBANIA</td>\n",
       "    </tr>\n",
       "    <tr>\n",
       "      <th>29</th>\n",
       "      <td>2019-06-19</td>\n",
       "      <td>04:55:20</td>\n",
       "      <td>W</td>\n",
       "      <td>155.39</td>\n",
       "      <td>CENTRAL ALASKA</td>\n",
       "    </tr>\n",
       "    <tr>\n",
       "      <th>30</th>\n",
       "      <td>2019-06-19</td>\n",
       "      <td>04:50:35</td>\n",
       "      <td>S</td>\n",
       "      <td>12.48</td>\n",
       "      <td>KYRGYZSTAN</td>\n",
       "    </tr>\n",
       "    <tr>\n",
       "      <th>31</th>\n",
       "      <td>2019-06-19</td>\n",
       "      <td>04:45:01</td>\n",
       "      <td>W</td>\n",
       "      <td>77.18</td>\n",
       "      <td>EASTERN TURKEY</td>\n",
       "    </tr>\n",
       "    <tr>\n",
       "      <th>32</th>\n",
       "      <td>2019-06-19</td>\n",
       "      <td>04:08:39</td>\n",
       "      <td>S</td>\n",
       "      <td>23.24</td>\n",
       "      <td>CENTRAL CALIFORNIA</td>\n",
       "    </tr>\n",
       "    <tr>\n",
       "      <th>33</th>\n",
       "      <td>2019-06-19</td>\n",
       "      <td>04:07:51</td>\n",
       "      <td>W</td>\n",
       "      <td>69.55</td>\n",
       "      <td>PUERTO RICO REGION</td>\n",
       "    </tr>\n",
       "    <tr>\n",
       "      <th>34</th>\n",
       "      <td>2019-06-19</td>\n",
       "      <td>03:32:02</td>\n",
       "      <td>N</td>\n",
       "      <td>19.20</td>\n",
       "      <td>GREECE</td>\n",
       "    </tr>\n",
       "    <tr>\n",
       "      <th>35</th>\n",
       "      <td>2019-06-19</td>\n",
       "      <td>03:12:13</td>\n",
       "      <td>W</td>\n",
       "      <td>67.54</td>\n",
       "      <td>SULAWESI, INDONESIA</td>\n",
       "    </tr>\n",
       "    <tr>\n",
       "      <th>36</th>\n",
       "      <td>2019-06-19</td>\n",
       "      <td>03:09:28</td>\n",
       "      <td>N</td>\n",
       "      <td>39.47</td>\n",
       "      <td>SOUTH OF JAVA, INDONESIA</td>\n",
       "    </tr>\n",
       "    <tr>\n",
       "      <th>37</th>\n",
       "      <td>2019-06-19</td>\n",
       "      <td>02:37:02</td>\n",
       "      <td>E</td>\n",
       "      <td>44.21</td>\n",
       "      <td>SOUTHERN CALIFORNIA</td>\n",
       "    </tr>\n",
       "    <tr>\n",
       "      <th>38</th>\n",
       "      <td>2019-06-19</td>\n",
       "      <td>02:35:57</td>\n",
       "      <td>N</td>\n",
       "      <td>37.90</td>\n",
       "      <td>KYUSHU, JAPAN</td>\n",
       "    </tr>\n",
       "    <tr>\n",
       "      <th>39</th>\n",
       "      <td>2019-06-19</td>\n",
       "      <td>02:31:47</td>\n",
       "      <td>E</td>\n",
       "      <td>21.39</td>\n",
       "      <td>OFFSHORE OAXACA, MEXICO</td>\n",
       "    </tr>\n",
       "    <tr>\n",
       "      <th>40</th>\n",
       "      <td>2019-06-19</td>\n",
       "      <td>02:18:22</td>\n",
       "      <td>S</td>\n",
       "      <td>30.75</td>\n",
       "      <td>JALISCO, MEXICO</td>\n",
       "    </tr>\n",
       "    <tr>\n",
       "      <th>41</th>\n",
       "      <td>2019-06-19</td>\n",
       "      <td>02:07:00</td>\n",
       "      <td>W</td>\n",
       "      <td>177.78</td>\n",
       "      <td>CENTRAL PERU</td>\n",
       "    </tr>\n",
       "    <tr>\n",
       "      <th>42</th>\n",
       "      <td>2019-06-19</td>\n",
       "      <td>01:59:07</td>\n",
       "      <td>N</td>\n",
       "      <td>40.51</td>\n",
       "      <td>SANTIAGO DEL ESTERO, ARGENTINA</td>\n",
       "    </tr>\n",
       "    <tr>\n",
       "      <th>43</th>\n",
       "      <td>2019-06-19</td>\n",
       "      <td>01:52:41</td>\n",
       "      <td>E</td>\n",
       "      <td>20.80</td>\n",
       "      <td>OAXACA, MEXICO</td>\n",
       "    </tr>\n",
       "    <tr>\n",
       "      <th>44</th>\n",
       "      <td>2019-06-19</td>\n",
       "      <td>01:44:25</td>\n",
       "      <td>N</td>\n",
       "      <td>38.95</td>\n",
       "      <td>WESTERN TURKEY</td>\n",
       "    </tr>\n",
       "    <tr>\n",
       "      <th>45</th>\n",
       "      <td>2019-06-19</td>\n",
       "      <td>01:40:58</td>\n",
       "      <td>E</td>\n",
       "      <td>27.88</td>\n",
       "      <td>OFFSHORE GUERRERO, MEXICO</td>\n",
       "    </tr>\n",
       "    <tr>\n",
       "      <th>46</th>\n",
       "      <td>2019-06-19</td>\n",
       "      <td>01:40:42</td>\n",
       "      <td>S</td>\n",
       "      <td>20.32</td>\n",
       "      <td>WESTERN TURKEY</td>\n",
       "    </tr>\n",
       "    <tr>\n",
       "      <th>47</th>\n",
       "      <td>2019-06-19</td>\n",
       "      <td>01:34:59</td>\n",
       "      <td>W</td>\n",
       "      <td>69.13</td>\n",
       "      <td>DOMINICAN REPUBLIC</td>\n",
       "    </tr>\n",
       "    <tr>\n",
       "      <th>48</th>\n",
       "      <td>2019-06-19</td>\n",
       "      <td>01:22:04</td>\n",
       "      <td>S</td>\n",
       "      <td>21.36</td>\n",
       "      <td>ISLAND OF HAWAII, HAWAII</td>\n",
       "    </tr>\n",
       "    <tr>\n",
       "      <th>49</th>\n",
       "      <td>2019-06-19</td>\n",
       "      <td>01:13:28</td>\n",
       "      <td>W</td>\n",
       "      <td>174.00</td>\n",
       "      <td>NORTHERN CALIFORNIA</td>\n",
       "    </tr>\n",
       "  </tbody>\n",
       "</table>\n",
       "</div>"
      ],
      "text/plain": [
       "          Date      Time Direction Degrees                          Location\n",
       "0   2019-06-19  12:16:09         S    1.49             NEAR COAST OF ECUADOR\n",
       "1   2019-06-19  12:05:05         W   80.94     NICOBAR ISLANDS, INDIA REGION\n",
       "2   2019-06-19  11:59:01         N    6.80                  JUJUY, ARGENTINA\n",
       "3   2019-06-19  11:37:58         E   93.64                       SWITZERLAND\n",
       "4   2019-06-19  11:36:16         S   23.77   TURKEY-SYRIA-IRAQ BORDER REGION\n",
       "5   2019-06-19  11:33:02         W   66.56                DOMINICAN REPUBLIC\n",
       "6   2019-06-19  10:39:10         N   46.43                    CENTRAL ALASKA\n",
       "7   2019-06-19  10:05:11         E    9.76  NEAR THE COAST OF WESTERN TURKEY\n",
       "8   2019-06-19  10:00:48         N   37.84         OFFSHORE GUERRERO, MEXICO\n",
       "9   2019-06-19  10:00:05         E   42.73                            FRANCE\n",
       "10  2019-06-19  09:45:30         N   18.70                     CENTRAL ITALY\n",
       "11  2019-06-19  09:45:08         W   69.67                ANTOFAGASTA, CHILE\n",
       "12  2019-06-19  09:43:09         N   63.12                        IONIAN SEA\n",
       "13  2019-06-19  08:49:36         W  150.48                    OAXACA, MEXICO\n",
       "14  2019-06-19  08:20:25         N   39.02          ISLAND OF HAWAII, HAWAII\n",
       "15  2019-06-19  08:18:00         E   26.06        NEAR COAST OF CENTRAL PERU\n",
       "16  2019-06-19  08:01:39         N   17.09                ANTOFAGASTA, CHILE\n",
       "17  2019-06-19  07:34:57         W  101.17                PUERTO RICO REGION\n",
       "18  2019-06-19  07:21:08         N   47.27         TURKEY-IRAN BORDER REGION\n",
       "19  2019-06-19  07:09:28         E    5.99                   SOUTHERN GREECE\n",
       "20  2019-06-19  07:01:42         N   42.83     KERMADEC ISLANDS, NEW ZEALAND\n",
       "21  2019-06-19  06:41:52         E   13.58                           ALBANIA\n",
       "22  2019-06-19  06:38:35         S   21.43                    WESTERN TURKEY\n",
       "23  2019-06-19  06:19:12         W   68.47                   TARAPACA, CHILE\n",
       "24  2019-06-19  06:03:43         N   37.54                             TONGA\n",
       "25  2019-06-19  05:47:22         E   20.72                     WESTERN TEXAS\n",
       "26  2019-06-19  05:38:19         N   16.32                    CENTRAL TURKEY\n",
       "27  2019-06-19  05:17:06         W   95.11       OFFSHORE ANTOFAGASTA, CHILE\n",
       "28  2019-06-19  05:06:47         N   19.21                           ALBANIA\n",
       "29  2019-06-19  04:55:20         W  155.39                    CENTRAL ALASKA\n",
       "30  2019-06-19  04:50:35         S   12.48                        KYRGYZSTAN\n",
       "31  2019-06-19  04:45:01         W   77.18                    EASTERN TURKEY\n",
       "32  2019-06-19  04:08:39         S   23.24                CENTRAL CALIFORNIA\n",
       "33  2019-06-19  04:07:51         W   69.55                PUERTO RICO REGION\n",
       "34  2019-06-19  03:32:02         N   19.20                            GREECE\n",
       "35  2019-06-19  03:12:13         W   67.54               SULAWESI, INDONESIA\n",
       "36  2019-06-19  03:09:28         N   39.47          SOUTH OF JAVA, INDONESIA\n",
       "37  2019-06-19  02:37:02         E   44.21               SOUTHERN CALIFORNIA\n",
       "38  2019-06-19  02:35:57         N   37.90                     KYUSHU, JAPAN\n",
       "39  2019-06-19  02:31:47         E   21.39           OFFSHORE OAXACA, MEXICO\n",
       "40  2019-06-19  02:18:22         S   30.75                   JALISCO, MEXICO\n",
       "41  2019-06-19  02:07:00         W  177.78                      CENTRAL PERU\n",
       "42  2019-06-19  01:59:07         N   40.51    SANTIAGO DEL ESTERO, ARGENTINA\n",
       "43  2019-06-19  01:52:41         E   20.80                    OAXACA, MEXICO\n",
       "44  2019-06-19  01:44:25         N   38.95                    WESTERN TURKEY\n",
       "45  2019-06-19  01:40:58         E   27.88         OFFSHORE GUERRERO, MEXICO\n",
       "46  2019-06-19  01:40:42         S   20.32                    WESTERN TURKEY\n",
       "47  2019-06-19  01:34:59         W   69.13                DOMINICAN REPUBLIC\n",
       "48  2019-06-19  01:22:04         S   21.36          ISLAND OF HAWAII, HAWAII\n",
       "49  2019-06-19  01:13:28         W  174.00               NORTHERN CALIFORNIA"
      ]
     },
     "execution_count": 302,
     "metadata": {},
     "output_type": "execute_result"
    }
   ],
   "source": [
    "#merge\n",
    "#df_time_date = df_time.merge(df_date, how=\"outer\", axis=1)\n",
    "#df_lat = df_lat_dir.merge(df_lat_num, how=\"outer\", axis=1)\n",
    "#df_lat_reg = df_lat.merge(df_Regions, how=\"outer\", axis=1)\n",
    "#df_all = df_lat_reg.merge(df_time_date, how=\"outer\", axis=1)\n",
    "#df_all\n",
    "df_all = pd.concat([df_date, df_time, df_lat_dir, df_lat_num, df_Regions], axis=1)\n",
    "\n",
    "#df_all = df.rename({'a': 'X', 'b': 'Y'}, axis='columns')\n",
    "df_all.columns = [\"Date\", \"Time\", \"Direction\", \"Degrees\", \"Location\"]\n",
    "df_all.dropna(axis= 0)"
   ]
  },
  {
   "cell_type": "markdown",
   "metadata": {},
   "source": [
    "#### Display the date, days, title, city, country of next 25 hackathon events as a Pandas dataframe table"
   ]
  },
  {
   "cell_type": "code",
   "execution_count": null,
   "metadata": {},
   "outputs": [],
   "source": [
    "# This is the url you will scrape in this exercise\n",
    "url ='https://hackevents.co/hackathons'"
   ]
  },
  {
   "cell_type": "code",
   "execution_count": null,
   "metadata": {},
   "outputs": [],
   "source": [
    "#your code"
   ]
  },
  {
   "cell_type": "markdown",
   "metadata": {},
   "source": [
    "#### Count number of tweets by a given Twitter account."
   ]
  },
  {
   "cell_type": "markdown",
   "metadata": {},
   "source": [
    "You will need to include a ***try/except block*** for account names not found. \n",
    "<br>***Hint:*** the program should count the number of tweets for any provided account"
   ]
  },
  {
   "cell_type": "code",
   "execution_count": null,
   "metadata": {},
   "outputs": [],
   "source": [
    "# This is the url you will scrape in this exercise \n",
    "# You will need to add the account credentials to this url\n",
    "url = 'https://twitter.com/'"
   ]
  },
  {
   "cell_type": "code",
   "execution_count": null,
   "metadata": {},
   "outputs": [],
   "source": [
    "#your code"
   ]
  },
  {
   "cell_type": "markdown",
   "metadata": {},
   "source": [
    "#### Number of followers of a given twitter account"
   ]
  },
  {
   "cell_type": "markdown",
   "metadata": {},
   "source": [
    "You will need to include a ***try/except block*** in case account/s name not found. \n",
    "<br>***Hint:*** the program should count the followers for any provided account"
   ]
  },
  {
   "cell_type": "code",
   "execution_count": null,
   "metadata": {},
   "outputs": [],
   "source": [
    "# This is the url you will scrape in this exercise \n",
    "# You will need to add the account credentials to this url\n",
    "url = 'https://twitter.com/'"
   ]
  },
  {
   "cell_type": "code",
   "execution_count": null,
   "metadata": {},
   "outputs": [],
   "source": [
    "#your code"
   ]
  },
  {
   "cell_type": "markdown",
   "metadata": {},
   "source": [
    "#### List all language names and number of related articles in the order they appear in wikipedia.org"
   ]
  },
  {
   "cell_type": "code",
   "execution_count": null,
   "metadata": {},
   "outputs": [],
   "source": [
    "# This is the url you will scrape in this exercise\n",
    "url = 'https://www.wikipedia.org/'"
   ]
  },
  {
   "cell_type": "code",
   "execution_count": null,
   "metadata": {},
   "outputs": [],
   "source": [
    "#your code"
   ]
  },
  {
   "cell_type": "markdown",
   "metadata": {},
   "source": [
    "#### A list with the different kind of datasets available in data.gov.uk "
   ]
  },
  {
   "cell_type": "code",
   "execution_count": null,
   "metadata": {},
   "outputs": [],
   "source": [
    "# This is the url you will scrape in this exercise\n",
    "url = 'https://data.gov.uk/'"
   ]
  },
  {
   "cell_type": "code",
   "execution_count": null,
   "metadata": {},
   "outputs": [],
   "source": [
    "#your code "
   ]
  },
  {
   "cell_type": "markdown",
   "metadata": {},
   "source": [
    "#### Top 10 languages by number of native speakers stored in a Pandas Dataframe"
   ]
  },
  {
   "cell_type": "code",
   "execution_count": null,
   "metadata": {},
   "outputs": [],
   "source": [
    "# This is the url you will scrape in this exercise\n",
    "url = 'https://en.wikipedia.org/wiki/List_of_languages_by_number_of_native_speakers'"
   ]
  },
  {
   "cell_type": "code",
   "execution_count": null,
   "metadata": {},
   "outputs": [],
   "source": [
    "#your code"
   ]
  },
  {
   "cell_type": "markdown",
   "metadata": {},
   "source": [
    "### BONUS QUESTIONS"
   ]
  },
  {
   "cell_type": "markdown",
   "metadata": {},
   "source": [
    "#### Scrape a certain number of tweets of a given Twitter account."
   ]
  },
  {
   "cell_type": "code",
   "execution_count": null,
   "metadata": {},
   "outputs": [],
   "source": [
    "# This is the url you will scrape in this exercise \n",
    "# You will need to add the account credentials to this url\n",
    "url = 'https://twitter.com/'"
   ]
  },
  {
   "cell_type": "code",
   "execution_count": null,
   "metadata": {},
   "outputs": [],
   "source": [
    "# your code"
   ]
  },
  {
   "cell_type": "markdown",
   "metadata": {},
   "source": [
    "#### IMDB's Top 250 data (movie name, Initial release, director name and stars) as a pandas dataframe"
   ]
  },
  {
   "cell_type": "code",
   "execution_count": null,
   "metadata": {},
   "outputs": [],
   "source": [
    "# This is the url you will scrape in this exercise \n",
    "url = 'https://www.imdb.com/chart/top'"
   ]
  },
  {
   "cell_type": "code",
   "execution_count": null,
   "metadata": {},
   "outputs": [],
   "source": [
    "# your code"
   ]
  },
  {
   "cell_type": "markdown",
   "metadata": {},
   "source": [
    "#### Movie name, year and a brief summary of the top 10 random movies (IMDB) as a pandas dataframe."
   ]
  },
  {
   "cell_type": "code",
   "execution_count": null,
   "metadata": {},
   "outputs": [],
   "source": [
    "#This is the url you will scrape in this exercise\n",
    "url = 'http://www.imdb.com/chart/top'"
   ]
  },
  {
   "cell_type": "code",
   "execution_count": null,
   "metadata": {},
   "outputs": [],
   "source": [
    "#your code"
   ]
  },
  {
   "cell_type": "markdown",
   "metadata": {},
   "source": [
    "#### Find the live weather report (temperature, wind speed, description and weather) of a given city."
   ]
  },
  {
   "cell_type": "code",
   "execution_count": null,
   "metadata": {},
   "outputs": [],
   "source": [
    "#https://openweathermap.org/current\n",
    "city = city=input('Enter the city:')\n",
    "url = 'http://api.openweathermap.org/data/2.5/weather?'+'q='+city+'&APPID=b35975e18dc93725acb092f7272cc6b8&units=metric'"
   ]
  },
  {
   "cell_type": "code",
   "execution_count": null,
   "metadata": {},
   "outputs": [],
   "source": [
    "# your code"
   ]
  },
  {
   "cell_type": "markdown",
   "metadata": {},
   "source": [
    "#### Book name,price and stock availability as a pandas dataframe."
   ]
  },
  {
   "cell_type": "code",
   "execution_count": null,
   "metadata": {},
   "outputs": [],
   "source": [
    "# This is the url you will scrape in this exercise. \n",
    "# It is a fictional bookstore created to be scraped. \n",
    "url = 'http://books.toscrape.com/'"
   ]
  },
  {
   "cell_type": "code",
   "execution_count": null,
   "metadata": {},
   "outputs": [],
   "source": [
    "#your code"
   ]
  }
 ],
 "metadata": {
  "kernelspec": {
   "display_name": "Python 3",
   "language": "python",
   "name": "python3"
  },
  "language_info": {
   "codemirror_mode": {
    "name": "ipython",
    "version": 3
   },
   "file_extension": ".py",
   "mimetype": "text/x-python",
   "name": "python",
   "nbconvert_exporter": "python",
   "pygments_lexer": "ipython3",
   "version": "3.7.3"
  }
 },
 "nbformat": 4,
 "nbformat_minor": 2
}
