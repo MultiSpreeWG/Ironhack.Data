{
 "cells": [
  {
   "cell_type": "markdown",
   "metadata": {},
   "source": [
    "## Challenge 2: Sets\n",
    "\n",
    "There are a lot to learn about Python Sets and the information presented in the lesson is limited due to its length. To learn Python Sets in depth you are strongly encouraged to review the W3Schools tutorial on [Python Sets Examples and Methods](https://www.w3schools.com/python/python_sets.asp) before you work on this lab. Some difficult questions in this lab have their solutions in the W3Schools tutorial.\n",
    "\n",
    "#### First, import the Python `random` libary"
   ]
  },
  {
   "cell_type": "code",
   "execution_count": 121,
   "metadata": {},
   "outputs": [],
   "source": [
    "import random"
   ]
  },
  {
   "cell_type": "markdown",
   "metadata": {},
   "source": [
    "#### In the cell below, create a list named `sample_list_1` with 80 random values. \n",
    "\n",
    "Requirements:\n",
    "\n",
    "* Each value is an integer falling between 0 and 100.\n",
    "* Each value in the list is unique.\n",
    "\n",
    "Print `sample_list_1` to review its values\n",
    "\n",
    "*Hint: use `random.sample` ([reference](https://docs.python.org/3/library/random.html#random.sample)).*"
   ]
  },
  {
   "cell_type": "code",
   "execution_count": 122,
   "metadata": {
    "scrolled": true
   },
   "outputs": [
    {
     "name": "stdout",
     "output_type": "stream",
     "text": [
      "[10, 46, 63, 97, 6, 89, 21, 9, 50, 34, 32, 84, 38, 48, 52, 0, 26, 27, 22, 25, 39, 7, 94, 74, 29, 15, 80, 41, 28, 43, 99, 82, 47, 88, 19, 98, 45, 1, 64, 71, 40, 73, 20, 42, 96, 3, 60, 53, 17, 78, 65, 79, 85, 75, 54, 49, 92, 55, 2, 68, 56, 91, 23, 18, 81, 12, 57, 70, 87, 30, 66, 37, 8, 36, 35, 14, 76, 33, 16, 72]\n",
      "lengh 80\n"
     ]
    }
   ],
   "source": [
    "# Your code here\n",
    "\n",
    "#sample_list_1 = [x for x in range(80) x = random.randint(0,100)]\n",
    "population = range(0,100)\n",
    "sample_list_1 = random.sample(population,80)\n",
    "    \n",
    "print(sample_list_1)\n",
    "print(\"lengh\", len(sample_list_1))\n"
   ]
  },
  {
   "cell_type": "markdown",
   "metadata": {},
   "source": [
    "#### Convert `sample_list_1` to a set called `set1`. Print the length of the set. Is its length still 80?"
   ]
  },
  {
   "cell_type": "code",
   "execution_count": 123,
   "metadata": {},
   "outputs": [
    {
     "name": "stdout",
     "output_type": "stream",
     "text": [
      "80\n",
      "{0, 1, 2, 3, 6, 7, 8, 9, 10, 12, 14, 15, 16, 17, 18, 19, 20, 21, 22, 23, 25, 26, 27, 28, 29, 30, 32, 33, 34, 35, 36, 37, 38, 39, 40, 41, 42, 43, 45, 46, 47, 48, 49, 50, 52, 53, 54, 55, 56, 57, 60, 63, 64, 65, 66, 68, 70, 71, 72, 73, 74, 75, 76, 78, 79, 80, 81, 82, 84, 85, 87, 88, 89, 91, 92, 94, 96, 97, 98, 99}\n"
     ]
    }
   ],
   "source": [
    "# Your code here\n",
    "\"\"\"set1 = set()\n",
    "\n",
    "for x in sample_list_1:\n",
    "    set1.add(x)\n",
    "\"\"\"\n",
    "\n",
    "set1 = set(sample_list_1)\n",
    "print(len(set1))\n",
    "print(set1)\n"
   ]
  },
  {
   "cell_type": "markdown",
   "metadata": {},
   "source": [
    "#### Create another list named `sample_list_2` with 80 random values.\n",
    "\n",
    "Requirements:\n",
    "\n",
    "* Each value is an integer falling between 0 and 100.\n",
    "* The values in the list don't have to be unique.\n",
    "\n",
    "*Hint: Use a FOR loop.*"
   ]
  },
  {
   "cell_type": "code",
   "execution_count": 124,
   "metadata": {},
   "outputs": [
    {
     "name": "stdout",
     "output_type": "stream",
     "text": [
      "[52, 49, 17, 1, 69, 73, 8, 77, 78, 63, 66, 16, 61, 99, 61, 28, 40, 82, 70, 76, 27, 4, 1, 41, 74, 14, 59, 70, 85, 66, 91, 72, 30, 10, 16, 57, 69, 3, 11, 92, 91, 83, 24, 74, 59, 13, 93, 38, 90, 67, 33, 57, 28, 72, 12, 47, 23, 50, 42, 56, 78, 44, 76, 81, 81, 82, 3, 100, 9, 4, 61, 1, 49, 99, 24, 60, 67, 84, 91, 9]\n"
     ]
    }
   ],
   "source": [
    "# Your code here\n",
    "sample_list_2 = []\n",
    "\n",
    "for x in range(80):\n",
    "    x = random.randint(0,100)\n",
    "    sample_list_2.append(x)\n",
    "\n",
    "print(sample_list_2)"
   ]
  },
  {
   "cell_type": "markdown",
   "metadata": {},
   "source": [
    "#### Convert `sample_list_2` to a set called `set2`. Print the length of the set. Is its length still 80?"
   ]
  },
  {
   "cell_type": "code",
   "execution_count": 125,
   "metadata": {},
   "outputs": [
    {
     "name": "stdout",
     "output_type": "stream",
     "text": [
      "lengh 54\n",
      "{1, 3, 4, 8, 9, 10, 11, 12, 13, 14, 16, 17, 23, 24, 27, 28, 30, 33, 38, 40, 41, 42, 44, 47, 49, 50, 52, 56, 57, 59, 60, 61, 63, 66, 67, 69, 70, 72, 73, 74, 76, 77, 78, 81, 82, 83, 84, 85, 90, 91, 92, 93, 99, 100}\n"
     ]
    }
   ],
   "source": [
    "# Your code here\n",
    "set2 = set()\n",
    "\n",
    "for x in sample_list_2:\n",
    "    set2.add(x)\n",
    "    \n",
    "print(\"lengh\",len(set2))\n",
    "print(set2)"
   ]
  },
  {
   "cell_type": "markdown",
   "metadata": {},
   "source": [
    "#### Identify the elements present in `set1` but not in `set2`. Assign the elements to a new set named `set3`."
   ]
  },
  {
   "cell_type": "code",
   "execution_count": 126,
   "metadata": {},
   "outputs": [
    {
     "name": "stdout",
     "output_type": "stream",
     "text": [
      "lengh 40\n",
      "{0, 2, 6, 7, 15, 18, 19, 20, 21, 22, 25, 26, 29, 32, 34, 35, 36, 37, 39, 43, 45, 46, 48, 53, 54, 55, 64, 65, 68, 71, 75, 79, 80, 87, 88, 89, 94, 96, 97, 98}\n"
     ]
    }
   ],
   "source": [
    "set3 = set(set1 -set2)\n",
    "\n",
    "#for x in set1 and set2:\n",
    "#    set3.add(x)\n",
    "    \n",
    "print(\"lengh\",len(set3))\n",
    "print(set3)\n"
   ]
  },
  {
   "cell_type": "markdown",
   "metadata": {},
   "source": [
    "#### Identify the elements present in `set2` but not in `set1`. Assign the elements to a new set named `set4`."
   ]
  },
  {
   "cell_type": "code",
   "execution_count": 127,
   "metadata": {},
   "outputs": [
    {
     "name": "stdout",
     "output_type": "stream",
     "text": [
      "lengh 40\n",
      "{0, 2, 6, 7, 15, 18, 19, 20, 21, 22, 25, 26, 29, 32, 34, 35, 36, 37, 39, 43, 45, 46, 48, 53, 54, 55, 64, 65, 68, 71, 75, 79, 80, 87, 88, 89, 94, 96, 97, 98}\n"
     ]
    }
   ],
   "source": [
    "# Your code here\n",
    "set4 = set(set2 -set1)\n",
    "\n",
    "print(\"lengh\",len(set3))\n",
    "print(set3)\n"
   ]
  },
  {
   "cell_type": "markdown",
   "metadata": {},
   "source": [
    "#### Now Identify the elements shared between `set1` and `set2`. Assign the elements to a new set named `set5`."
   ]
  },
  {
   "cell_type": "code",
   "execution_count": 128,
   "metadata": {},
   "outputs": [
    {
     "name": "stdout",
     "output_type": "stream",
     "text": [
      "set5 shared {1, 3, 8, 9, 10, 12, 14, 16, 17, 23, 27, 28, 30, 33, 38, 40, 41, 42, 47, 49, 50, 52, 56, 57, 60, 63, 66, 70, 72, 73, 74, 76, 78, 81, 82, 84, 85, 91, 92, 99}\n"
     ]
    }
   ],
   "source": [
    "# Your code here\n",
    "\n",
    "set5 = set(x for x in set1 if x in set2)\n",
    "print(\"set5 shared\",set5)\n"
   ]
  },
  {
   "cell_type": "markdown",
   "metadata": {},
   "source": [
    "#### What is the relationship among the following values:\n",
    "\n",
    "* len(set1)\n",
    "* len(set2)\n",
    "* len(set3)\n",
    "* len(set4)\n",
    "* len(set5)\n",
    "\n",
    "Use a math formular to represent that relationship. Test your formular with Python code."
   ]
  },
  {
   "cell_type": "code",
   "execution_count": 129,
   "metadata": {},
   "outputs": [
    {
     "name": "stdout",
     "output_type": "stream",
     "text": [
      "set 1 compared to set1,2,3,4,5\n",
      "If set 1 is smaller than True\n",
      "False\n",
      "False\n",
      "False\n",
      "False\n",
      "False\n",
      "set 2 compared to set1,2,3,4,5\n",
      "If set 2 is smaller than True\n",
      "True\n",
      "False\n",
      "False\n",
      "False\n",
      "False\n",
      "set 3 compared to set1,2,3,4,5\n",
      "If set 3 is smaller than True\n",
      "True\n",
      "True\n",
      "False\n",
      "False\n",
      "True\n",
      "set 4 compared to set1,2,3,4,5\n",
      "If set 4 is smaller than True\n",
      "True\n",
      "True\n",
      "True\n",
      "False\n",
      "True\n",
      "set 5 compared to set1,2,3,4,5\n",
      "If set 5 is smaller than True\n",
      "True\n",
      "True\n",
      "False\n",
      "False\n",
      "False\n"
     ]
    }
   ],
   "source": [
    "# Your code here\n",
    "realationship = [set1, set2, set3, set4, set5]\n",
    "index = 0\n",
    "\n",
    "for x in realationship:\n",
    "    print(\"set\",index+1,\"compared to set1,2,3,4,5\\nIf set\",index+1,\"is smaller than True\")\n",
    "    index += 1\n",
    "    print(sum(x)<sum(set1))\n",
    "    print(sum(x)<sum(set2))\n",
    "    print(sum(x)<sum(set3))\n",
    "    print(sum(x)<sum(set4))\n",
    "    print(sum(x)<sum(set5))\n",
    "\n",
    "\n",
    "\n",
    "\n"
   ]
  },
  {
   "cell_type": "markdown",
   "metadata": {},
   "source": [
    "#### Create an empty set called `set6`."
   ]
  },
  {
   "cell_type": "code",
   "execution_count": 130,
   "metadata": {},
   "outputs": [],
   "source": [
    "# Your code here\n",
    "set6 = set()"
   ]
  },
  {
   "cell_type": "markdown",
   "metadata": {},
   "source": [
    "#### Add `set3` and `set5` to `set6` using the Python Set `update` method."
   ]
  },
  {
   "cell_type": "code",
   "execution_count": 131,
   "metadata": {},
   "outputs": [
    {
     "name": "stdout",
     "output_type": "stream",
     "text": [
      "{0, 1, 2, 3, 6, 7, 8, 9, 10, 12, 14, 15, 16, 17, 18, 19, 20, 21, 22, 23, 25, 26, 27, 28, 29, 30, 32, 33, 34, 35, 36, 37, 38, 39, 40, 41, 42, 43, 45, 46, 47, 48, 49, 50, 52, 53, 54, 55, 56, 57, 60, 63, 64, 65, 66, 68, 70, 71, 72, 73, 74, 75, 76, 78, 79, 80, 81, 82, 84, 85, 87, 88, 89, 91, 92, 94, 96, 97, 98, 99}\n"
     ]
    }
   ],
   "source": [
    "# Your code here\n",
    "set6.update(set3, set5)\n",
    "print(set6)"
   ]
  },
  {
   "cell_type": "markdown",
   "metadata": {},
   "source": [
    "#### Check if `set1` and `set6` are equal."
   ]
  },
  {
   "cell_type": "code",
   "execution_count": 132,
   "metadata": {},
   "outputs": [
    {
     "name": "stdout",
     "output_type": "stream",
     "text": [
      "True\n"
     ]
    }
   ],
   "source": [
    "# Your code here\n",
    "if set1 == set6:\n",
    "    print(True)\n",
    "else:\n",
    "    print(False)"
   ]
  },
  {
   "cell_type": "markdown",
   "metadata": {},
   "source": [
    "#### Check if `set1` contains `set2` using the Python Set `issubset` method. Then check if `set1` contains `set3`.*"
   ]
  },
  {
   "cell_type": "code",
   "execution_count": 133,
   "metadata": {},
   "outputs": [
    {
     "name": "stdout",
     "output_type": "stream",
     "text": [
      "set1 & set2 False\n",
      "set1 & set3 False\n"
     ]
    }
   ],
   "source": [
    "# Your code here\n",
    "print(\"set1 & set2\",set1.issubset(set2))\n",
    "print(\"set1 & set3\",set1.issubset(set3))"
   ]
  },
  {
   "cell_type": "markdown",
   "metadata": {},
   "source": [
    "#### Using the Python Set `union` method, aggregate `set3`, `set4`, and `set5`. Then aggregate `set1` and `set2`. \n",
    "\n",
    "#### Check if the aggregated values are equal."
   ]
  },
  {
   "cell_type": "code",
   "execution_count": 134,
   "metadata": {},
   "outputs": [
    {
     "name": "stdout",
     "output_type": "stream",
     "text": [
      "Equal?: True\n"
     ]
    }
   ],
   "source": [
    "# Your code here\n",
    "\n",
    "union1 = set3.union(set4, set5)\n",
    "union2 = set1.union(set2)\n",
    "\n",
    "print(\"Equal?:\",union1 == union2)\n",
    "    \n",
    "\n"
   ]
  },
  {
   "cell_type": "markdown",
   "metadata": {},
   "source": [
    "#### Using the `pop` method, remove the first element from `set1`."
   ]
  },
  {
   "cell_type": "code",
   "execution_count": 146,
   "metadata": {},
   "outputs": [
    {
     "name": "stdout",
     "output_type": "stream",
     "text": [
      "{16, 17, 18, 20, 22, 23, 25, 26, 27, 28, 30, 32, 33, 34, 35, 36, 37, 38, 40, 42, 43, 45, 46, 47, 48, 50, 52, 53, 54, 55, 56, 57, 60, 63, 64, 65, 66, 68, 70, 72, 73, 74, 75, 76, 78, 80, 82, 84, 85, 87, 88, 92, 94, 96, 97, 98}\n",
      "{17, 18, 20, 22, 23, 25, 26, 27, 28, 30, 32, 33, 34, 35, 36, 37, 38, 40, 42, 43, 45, 46, 47, 48, 50, 52, 53, 54, 55, 56, 57, 60, 63, 64, 65, 66, 68, 70, 72, 73, 74, 75, 76, 78, 80, 82, 84, 85, 87, 88, 92, 94, 96, 97, 98}\n"
     ]
    }
   ],
   "source": [
    "# Your code here\n",
    "print(set1)\n",
    "set1.pop()\n",
    "print(set1)"
   ]
  },
  {
   "cell_type": "markdown",
   "metadata": {},
   "source": [
    "#### Remove every element in the following list from `set1` if they are present in the set. Print the remaining elements.\n",
    "\n",
    "```\n",
    "list_to_remove = [1, 9, 11, 19, 21, 29, 31, 39, 41, 49, 51, 59, 61, 69, 71, 79, 81, 89, 91, 99]\n",
    "```"
   ]
  },
  {
   "cell_type": "code",
   "execution_count": 136,
   "metadata": {},
   "outputs": [
    {
     "name": "stdout",
     "output_type": "stream",
     "text": [
      "{2, 3, 6, 7, 8, 10, 12, 14, 15, 16, 17, 18, 20, 22, 23, 25, 26, 27, 28, 30, 32, 33, 34, 35, 36, 37, 38, 40, 42, 43, 45, 46, 47, 48, 50, 52, 53, 54, 55, 56, 57, 60, 63, 64, 65, 66, 68, 70, 72, 73, 74, 75, 76, 78, 80, 82, 84, 85, 87, 88, 92, 94, 96, 97, 98}\n"
     ]
    }
   ],
   "source": [
    "# Your code here\n",
    "list_to_remove = [1, 9, 11, 19, 21, 29, 31, 39, 41, 49, 51, 59, 61, 69, 71, 79, 81, 89, 91, 99]\n",
    "\n",
    "for x in list_to_remove:\n",
    "    if x in set1:\n",
    "        set1.remove(x)\n",
    "print(set1)\n",
    "\n",
    "\n"
   ]
  },
  {
   "cell_type": "code",
   "execution_count": null,
   "metadata": {},
   "outputs": [],
   "source": []
  }
 ],
 "metadata": {
  "kernelspec": {
   "display_name": "Python 3",
   "language": "python",
   "name": "python3"
  },
  "language_info": {
   "codemirror_mode": {
    "name": "ipython",
    "version": 3
   },
   "file_extension": ".py",
   "mimetype": "text/x-python",
   "name": "python",
   "nbconvert_exporter": "python",
   "pygments_lexer": "ipython3",
   "version": "3.7.3"
  }
 },
 "nbformat": 4,
 "nbformat_minor": 2
}
