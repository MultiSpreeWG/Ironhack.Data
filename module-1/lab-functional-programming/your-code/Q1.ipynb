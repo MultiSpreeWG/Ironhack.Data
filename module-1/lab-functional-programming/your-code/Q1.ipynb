{
 "cells": [
  {
   "cell_type": "markdown",
   "metadata": {},
   "source": [
    "In the cell below, create a Python function that wraps your previous solution for the Bag of Words lab.\n",
    "\n",
    "Requirements:\n",
    "\n",
    "1. Your function should accept the following parameters:\n",
    "    * `docs` [REQUIRED] - array of document paths.\n",
    "    * `stop_words` [OPTIONAL] - array of stop words. The default value is an empty array.\n",
    "\n",
    "1. Your function should return a Python object that contains the following:\n",
    "    * `bag_of_words` - array of strings of normalized unique words in the corpus.\n",
    "    * `term_freq` - array of the term-frequency vectors."
   ]
  },
  {
   "cell_type": "code",
   "execution_count": 23,
   "metadata": {},
   "outputs": [],
   "source": [
    "# Import required libraries\n",
    "from string import punctuation\n",
    "\n",
    "get_bow_from_docs(docs, stop_words= [])\n",
    "\n",
    "# Define function\n",
    "def get_bow_from_docs(docs, stop_words=[]):\n",
    "    \n",
    "    # In the function, first define the variables you will use such as `corpus`, `bag_of_words`, and `term_freq`.\n",
    "    \n",
    "    \n",
    "    corpus = list()\n",
    "    bag_of_words = list()\n",
    "    term_freq = list()\n",
    "    \n",
    "    for doc in docs:\n",
    "        f = open(doc, \"r\")\n",
    "        s = f.read()\n",
    "        s= \"\".join(c for c in s if c not in punctuation)\n",
    "        corpus.append(s.lower())\n",
    "        f.close()\n",
    "\n",
    "    \n",
    "    for s in corpus:\n",
    "        s = ''.join(c for c in s if c not in punctuation)\n",
    "        terms = s.split()\n",
    "        for term in terms:\n",
    "            if not term in bag_of_words and term not in stop_words:\n",
    "                bag_of_words.append(term)\n",
    "    \n",
    "    \n",
    "    for s in corpus:\n",
    "        freq = []\n",
    "        terms = s.split()\n",
    "        for word in bag_of_words:\n",
    "            freq.append(terms.count(word))\n",
    "        term_freq.append(freq)\n",
    "    \n",
    "    \n",
    "    return {\n",
    "        \"bag_of_words\": bag_of_words,\n",
    "        \"term_freq\": term_freq\n",
    "    }\n",
    "    "
   ]
  },
  {
   "cell_type": "markdown",
   "metadata": {},
   "source": [
    "Test your function without stop words. You should see the output like below:\n",
    "\n",
    "```{'bag_of_words': ['ironhack', 'is', 'cool', 'i', 'love', 'am', 'a', 'student', 'at'], 'term_freq': [[1, 1, 1, 0, 0, 0, 0, 0, 0], [1, 0, 0, 1, 1, 0, 0, 0, 0], [1, 0, 0, 1, 0, 1, 1, 1, 1]]}```"
   ]
  },
  {
   "cell_type": "code",
   "execution_count": 24,
   "metadata": {},
   "outputs": [
    {
     "name": "stdout",
     "output_type": "stream",
     "text": [
      "{'bag_of_words': ['ironhack', 'is', 'cool', 'i', 'love', 'am', 'a', 'student', 'at'], 'term_freq': [[1, 1, 1, 0, 0, 0, 0, 0, 0], [1, 0, 0, 1, 1, 0, 0, 0, 0], [1, 0, 0, 1, 0, 1, 1, 1, 1]]}\n"
     ]
    }
   ],
   "source": [
    "# Define doc paths array\n",
    "docs = [\"/Users/a1278/databer0619/module-1/lab-string-operations/your-code/doc1.txt\",\n",
    "        \"/Users/a1278/databer0619/module-1/lab-string-operations/your-code/doc2.txt\",\n",
    "        \"/Users/a1278/databer0619/module-1/lab-string-operations/your-code/doc3.txt\"]\n",
    "\n",
    "# Obtain BoW from your function\n",
    "bow = get_bow_from_docs(docs)\n",
    "\n",
    "# Print BoW\n",
    "print(bow)"
   ]
  },
  {
   "cell_type": "markdown",
   "metadata": {},
   "source": [
    "If your attempt above is successful, nice work done!\n",
    "\n",
    "Now test your function again with the stop words. In the previous lab we defined the stop words in a large array. In this lab, we'll import the stop words from Scikit-Learn."
   ]
  },
  {
   "cell_type": "code",
   "execution_count": 16,
   "metadata": {
    "scrolled": true
   },
   "outputs": [
    {
     "name": "stdout",
     "output_type": "stream",
     "text": [
      "frozenset({'itself', 'once', 'has', 'never', 'us', 'back', 'at', 'please', 'becoming', 'none', 'might', 'forty', 'whence', 'thereby', 'else', 'many', 'several', 'get', 'ours', 'should', 'out', 'then', 'these', 'name', 'own', 'their', 'interest', 'herein', 'how', 'hers', 'made', 'even', 'around', 'all', 'anyhow', 'no', 'whole', 'every', 'elsewhere', 'within', 'therefore', 'most', 'still', 'wherein', 'call', 'had', 'from', 'were', 'whither', 'because', 'and', 'much', 'full', 'is', 'with', 'very', 'beside', 'eg', 'before', 'some', 'couldnt', 'myself', 'six', 'across', 'cannot', 'will', 'onto', 'three', 'seem', 'being', 'system', 'somewhere', 'latter', 'rather', 'become', 'he', 'seeming', 'was', 'they', 'first', 'also', 'yet', 'everyone', 'may', 'therein', 'whoever', 'there', 'without', 'eight', 'well', 'me', 'whenever', 'this', 'least', 'it', 'moreover', 'found', 'whose', 'an', 'etc', 'less', 'inc', 'its', 'empty', 'same', 'find', 'hence', 'besides', 'give', 'others', 'third', 'whom', 'what', 'that', 'show', 'during', 'bottom', 'for', 'afterwards', 'move', 'since', 'whatever', 'while', 'more', 'almost', 'whether', 'his', 'or', 'describe', 'already', 'anyone', 'fill', 'through', 'in', 'beforehand', 'she', 'could', 'are', 'our', 'on', 'noone', 'under', 'thru', 'yourselves', 'four', 'something', 'her', 'be', 'nowhere', 'whereas', 'enough', 'alone', 'one', 'down', 'namely', 'thick', 'formerly', 'amongst', 'ourselves', 'among', 'often', 'see', 'until', 'per', 'perhaps', 'mill', 'him', 'thus', 'twenty', 'below', 'too', 'a', 'again', 'next', 'meanwhile', 'i', 'nor', 'un', 'above', 'have', 'latterly', 'why', 'everything', 'former', 'themselves', 'mine', 'ten', 'between', 'twelve', 'other', 'however', 'beyond', 'although', 'either', 'who', 'fifty', 'go', 'whereupon', 'eleven', 'would', 'over', 'amoungst', 'against', 'am', 'ever', 'thereafter', 'side', 'towards', 'cant', 'your', 'been', 'both', 'do', 'here', 'anyway', 'we', 'done', 'thin', 'so', 'those', 'except', 'himself', 'always', 'anything', 'hundred', 'wherever', 'yours', 'nine', 'each', 'toward', 'when', 'the', 'seemed', 'another', 'whereafter', 'sixty', 'hereupon', 'someone', 'seems', 'sincere', 'further', 'into', 'few', 'last', 'con', 'whereby', 'became', 'only', 'by', 'which', 'nothing', 'keep', 'detail', 'take', 'than', 'off', 'nevertheless', 'after', 'if', 'not', 'now', 'front', 'indeed', 'two', 'where', 'otherwise', 'due', 'becomes', 'upon', 'my', 'mostly', 'along', 'thence', 'via', 'throughout', 'them', 'sometimes', 'can', 'serious', 'must', 'part', 're', 'sometime', 'fifteen', 'hasnt', 'to', 'about', 'together', 'any', 'of', 'top', 'amount', 'as', 'nobody', 'neither', 'hereafter', 'such', 'but', 'you', 'anywhere', 'fire', 'bill', 'five', 'ie', 'everywhere', 'de', 'up', 'behind', 'ltd', 'cry', 'somehow', 'thereupon', 'hereby', 'put', 'yourself', 'co', 'though', 'herself'})\n"
     ]
    }
   ],
   "source": [
    "from sklearn.feature_extraction import stop_words\n",
    "print(stop_words.ENGLISH_STOP_WORDS)"
   ]
  },
  {
   "cell_type": "markdown",
   "metadata": {},
   "source": [
    "You should have seen a large list of words that looks like:\n",
    "\n",
    "```frozenset({'across', 'mine', 'cannot', ...})```\n",
    "\n",
    "`frozenset` is a type of Python object that is immutable. In this lab you can use it just like an array without conversion."
   ]
  },
  {
   "cell_type": "markdown",
   "metadata": {},
   "source": [
    "Next, test your function with supplying `stop_words.ENGLISH_STOP_WORDS` as the second parameter."
   ]
  },
  {
   "cell_type": "code",
   "execution_count": 25,
   "metadata": {},
   "outputs": [
    {
     "name": "stdout",
     "output_type": "stream",
     "text": [
      "{'bag_of_words': ['ironhack', 'cool', 'love', 'student'], 'term_freq': [[1, 1, 0, 0], [1, 0, 1, 0], [1, 0, 0, 1]]}\n"
     ]
    }
   ],
   "source": [
    "bow = get_bow_from_docs(docs, stop_words.ENGLISH_STOP_WORDS)\n",
    "\n",
    "print(bow)"
   ]
  },
  {
   "cell_type": "markdown",
   "metadata": {},
   "source": [
    "You should have seen:\n",
    "\n",
    "```{'bag_of_words': ['ironhack', 'cool', 'love', 'student'], 'term_freq': [[1, 1, 0, 0], [1, 0, 1, 0], [1, 0, 0, 1]]}```"
   ]
  },
  {
   "cell_type": "code",
   "execution_count": null,
   "metadata": {},
   "outputs": [],
   "source": []
  }
 ],
 "metadata": {
  "kernelspec": {
   "display_name": "Python 3",
   "language": "python",
   "name": "python3"
  },
  "language_info": {
   "codemirror_mode": {
    "name": "ipython",
    "version": 3
   },
   "file_extension": ".py",
   "mimetype": "text/x-python",
   "name": "python",
   "nbconvert_exporter": "python",
   "pygments_lexer": "ipython3",
   "version": "3.7.3"
  }
 },
 "nbformat": 4,
 "nbformat_minor": 2
}
