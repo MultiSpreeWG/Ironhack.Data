{
 "cells": [
  {
   "cell_type": "code",
   "execution_count": 19,
   "metadata": {},
   "outputs": [],
   "source": [
    "import requests\n",
    "import json \n",
    "from pandas.io.json import json_normalize \n",
    "import pandas as pd\n",
    "import re\n",
    "\n",
    "response = requests.get(\"https://api.github.com/repos/ironhack-datalabs/databer0619/forks\")\n",
    "results = response.json()\n",
    "df = pd.DataFrame(json_normalize(results))\n",
    "\n",
    "#curl -i https://api.github.com/ironhack-datalabs/madrid-oct-2018"
   ]
  },
  {
   "cell_type": "code",
   "execution_count": 29,
   "metadata": {},
   "outputs": [
    {
     "name": "stdout",
     "output_type": "stream",
     "text": [
      "['Jupyter Notebook']\n"
     ]
    }
   ],
   "source": [
    "#Loop the JSON response to find out the `language` attribute of each fork. Use an array to store the `language` attributes of each fork.\n",
    "df.columns.values\n",
    "\n",
    "language = list()\n",
    "for x in df[\"language\"]:\n",
    "    if x not in language:\n",
    "        language.append(x)\n",
    "print(language)"
   ]
  },
  {
   "cell_type": "code",
   "execution_count": 70,
   "metadata": {},
   "outputs": [
    {
     "name": "stdout",
     "output_type": "stream",
     "text": [
      "0    2019-06-17T13:33:10Z\n",
      "1    2019-06-17T13:32:17Z\n",
      "Name: commit.author.date, dtype: object\n"
     ]
    }
   ],
   "source": [
    "#Obtain all the commits made in the past week via API, which is a JSON array that contains multiple commit objects.\n",
    "\n",
    "df.columns.values\n",
    "#df[\"commits_url\"]\n",
    "response = requests.get('https://api.github.com/repos/ironhack-datalabs/databer0619/commits?since=2019-06-10T00:00:00Z',auth=(\"MultiSpreeWG\", \"0a743f34a94eb82f56f0d0dca1421f33c8bf6fc6\"))\n",
    "results = response.json()\n",
    "commits = pd.DataFrame(json_normalize(results))\n",
    "\n",
    "print(commits[\"commit.author.date\"])\n",
    "\n"
   ]
  },
  {
   "cell_type": "code",
   "execution_count": 43,
   "metadata": {},
   "outputs": [
    {
     "data": {
      "text/plain": [
       "documentation_url    1\n",
       "message              1\n",
       "dtype: int64"
      ]
     },
     "execution_count": 43,
     "metadata": {},
     "output_type": "execute_result"
    }
   ],
   "source": [
    "#1. Count how many commit objects are contained in the array.\n",
    "\n",
    "commits.count()"
   ]
  },
  {
   "cell_type": "code",
   "execution_count": null,
   "metadata": {},
   "outputs": [],
   "source": []
  },
  {
   "cell_type": "code",
   "execution_count": null,
   "metadata": {},
   "outputs": [],
   "source": []
  },
  {
   "cell_type": "code",
   "execution_count": null,
   "metadata": {},
   "outputs": [],
   "source": []
  }
 ],
 "metadata": {
  "kernelspec": {
   "display_name": "Python 3",
   "language": "python",
   "name": "python3"
  },
  "language_info": {
   "codemirror_mode": {
    "name": "ipython",
    "version": 3
   },
   "file_extension": ".py",
   "mimetype": "text/x-python",
   "name": "python",
   "nbconvert_exporter": "python",
   "pygments_lexer": "ipython3",
   "version": "3.7.3"
  }
 },
 "nbformat": 4,
 "nbformat_minor": 2
}
