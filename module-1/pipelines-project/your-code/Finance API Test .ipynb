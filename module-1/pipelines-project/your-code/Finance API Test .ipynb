{
 "cells": [
  {
   "cell_type": "code",
   "execution_count": 53,
   "metadata": {},
   "outputs": [],
   "source": [
    "from pandas_datareader import data\n",
    "import matplotlib.pyplot as plt\n",
    "import pandas as pd\n",
    "import requests\n",
    "import numpy as np\n",
    "from pandas.io.json import json_normalize\n",
    "import requests                  \n",
    "from bs4 import BeautifulSoup    \n",
    "import re                        \n",
    "from datetime import datetime    \n",
    "from time import mktime          "
   ]
  },
  {
   "cell_type": "code",
   "execution_count": 61,
   "metadata": {},
   "outputs": [],
   "source": [
    "##variables\n",
    "url = \"https://apidojo-yahoo-finance-v1.p.rapidapi.com/market/get-summary\"\n",
    "token = \"22990f9b4amsh4df04e987b36e1bp18331cjsn862ed02f8065\"\n",
    "day_begin = \"01-01-2014\"\n",
    "day_end = \"01-01-2019\"\n",
    "interval = \"1d\"\n",
    "List_of_raws = list()"
   ]
  },
  {
   "cell_type": "code",
   "execution_count": null,
   "metadata": {},
   "outputs": [],
   "source": [
    "#START THE PROCESS\n",
    "def start():\n",
    "    Stockslist = list()\n",
    "    Stocknames = list()\n",
    "    End_of_Party = 0\n",
    "    while End_of_Party == 0:\n",
    "        input_stock = (input(\"Insert the Name of the Company to add stock, otherwise enter \\\"done\\\": \"))\n",
    "        input_stock = input_stock.upper()\n",
    "        if input_stock == \"DONE\":\n",
    "            End_of_Party += 1\n",
    "        else:\n",
    "            Stocknames.append(input_stock)\n",
    "            input_stock = (input(\"Insert the SHORT NAME (Stockname) to add stock, otherwise enter \\\"done\\\": \"))\n",
    "            input_stock = input_stock.upper()\n",
    "            if input_stock == \"DONE\":\n",
    "                End_of_Party += 1\n",
    "            else:\n",
    "                Stockslist.append(input_stock)\n",
    "            continue\n",
    "        get_data_rollin(Stocknames, Stockslist)"
   ]
  },
  {
   "cell_type": "code",
   "execution_count": null,
   "metadata": {},
   "outputs": [],
   "source": [
    "#activate the load data function\n",
    "def get_data_rollin(Stocks, Shortnames):\n",
    "    index = 0 \n",
    "    for Stock in Stocks:\n",
    "        Stock+\"_raw\" = load_csv_data(\"Shortnames[index]\", interval, day_begin, day_end)\n",
    "        List_of_raws = List_of_raws.append(Stock+\"_raw\")\n",
    "        index +=1"
   ]
  },
  {
   "cell_type": "code",
   "execution_count": 57,
   "metadata": {},
   "outputs": [],
   "source": [
    "def _get_crumbs_and_cookies(stock):\n",
    "    \n",
    "    url = 'https://finance.yahoo.com/quote/{}/history'.format(stock)\n",
    "    with requests.session():\n",
    "        header = {'Connection': 'keep-alive',\n",
    "                   'Expires': '-1',\n",
    "                   'Upgrade-Insecure-Requests': '1',\n",
    "                   'User-Agent': 'Mozilla/5.0 (Windows NT 10.0; WOW64) \\\n",
    "                   AppleWebKit/537.36 (KHTML, like Gecko) Chrome/54.0.2840.99 Safari/537.36'\n",
    "                   }\n",
    "        \n",
    "        website = requests.get(url, headers=header)\n",
    "        soup = BeautifulSoup(website.text, 'lxml')\n",
    "        crumb = re.findall('\"CrumbStore\":{\"crumb\":\"(.+?)\"}', str(soup))\n",
    "\n",
    "        return (header, crumb[0], website.cookies)"
   ]
  },
  {
   "cell_type": "code",
   "execution_count": 58,
   "metadata": {},
   "outputs": [],
   "source": [
    "def convert_to_unix(date):\n",
    "    \n",
    "    datum = datetime.strptime(date, '%d-%m-%Y')\n",
    "    \n",
    "    return int(mktime(datum.timetuple()))\n"
   ]
  },
  {
   "cell_type": "code",
   "execution_count": 59,
   "metadata": {},
   "outputs": [],
   "source": [
    "def load_csv_data(stock, interval, day_begin, day_end):\n",
    "  \n",
    "    day_begin_unix = convert_to_unix(day_begin)\n",
    "    day_end_unix = convert_to_unix(day_end)\n",
    "    \n",
    "    header, crumb, cookies = _get_crumbs_and_cookies(stock)\n",
    "    \n",
    "    with requests.session():\n",
    "        url = 'https://query1.finance.yahoo.com/v7/finance/download/' \\\n",
    "              '{stock}?period1={day_begin}&period2={day_end}&interval={interval}&events=history&crumb={crumb}' \\\n",
    "              .format(stock=stock, day_begin=day_begin_unix, day_end=day_end_unix, interval=interval, crumb=crumb)\n",
    "                \n",
    "        website = requests.get(url, headers=header, cookies=cookies)\n",
    "       \n",
    "        return website.text.split('\\n')[:-1]"
   ]
  },
  {
   "cell_type": "code",
   "execution_count": 44,
   "metadata": {},
   "outputs": [
    {
     "name": "stdout",
     "output_type": "stream",
     "text": [
      "Blau_raw\n"
     ]
    }
   ],
   "source": [
    "def make_it_beautiful(:\n",
    "    "
   ]
  },
  {
   "cell_type": "code",
   "execution_count": 323,
   "metadata": {},
   "outputs": [],
   "source": [
    "#Separate the lists by commas\n",
    "List_col = [\"Date\",\"Open\",\"High\",\"Low\",\"Close\",\"Adj Close\",\"Volume\"]\n",
    "Amazon = list()\n",
    "for day in Amazon_raw:\n",
    "    day = day.split(\",\")\n",
    "    Amazon.append(day)\n",
    "    \n",
    "Tencent = list()\n",
    "for day in Tencent_raw:\n",
    "    day = day.split(\",\")\n",
    "    Tencent.append(day)\n",
    "    \n",
    "Alibaba = list()\n",
    "for day in Alibaba_raw:\n",
    "    day = day.split(\",\")\n",
    "    Alibaba.append(day)\n",
    "    \n",
    "#get Dataframes.\n",
    "df_amazon = pd.DataFrame(Amazon)\n",
    "df_alibaba = pd.DataFrame(Alibaba)\n",
    "df_tencent = pd.DataFrame(Tencent)\n",
    "\n",
    "#first row to columnnames.\n",
    "df_tencent = df_tencent.rename(columns=df.iloc[0])\n",
    "df_amazon = df_amazon.rename(columns=df.iloc[0])\n",
    "df_alibaba = df_alibaba.rename(columns=df.iloc[0])\n",
    "\n",
    "#delete 1st row becaause those are the column names now. \n",
    "df_tencent = df_tencent.drop(0,axis=0)\n",
    "df_amazon = df_amazon.drop(0, axis=0)\n",
    "df_alibaba = df_alibaba.drop(0, axis=0)\n",
    "#function to change column dtypes \n",
    "def change_to_numeric(Columns, Dataframe):\n",
    "    for col in Columns:\n",
    "        Dataframe[col] = pd.to_numeric(Dataframe[col])\n",
    "Col_dtype_to_float = [\"Open\",\"High\",\"Low\",\"Close\",\"Adj Close\",\"Volume\"]\n",
    "#execute change of dtypes from columns\n",
    "change_to_numeric(Col_dtype_to_float, df_tencent)\n",
    "change_to_numeric(Col_dtype_to_float, df_alibaba)\n",
    "change_to_numeric(Col_dtype_to_float, df_amazon)\n",
    "\n"
   ]
  },
  {
   "cell_type": "code",
   "execution_count": 324,
   "metadata": {},
   "outputs": [],
   "source": [
    "#change of column names except of Date:\n",
    "x = {}\n",
    "Col_dtype_to_float = [\"Open\",\"High\",\"Low\",\"Close\",\"Adj Close\",\"Volume\"]\n",
    "def changecolname(old_cols, Dataframe, NameofComp):\n",
    "    for col in old_cols:\n",
    "        x.update({col: NameofComp+col})\n",
    "    Dataframe = Dataframe.rename(columns = x)\n",
    "    return Dataframe\n",
    " \n",
    "df_alibaba = changecolname(Col_dtype_to_float, df_alibaba, \"Alibaba\")\n",
    "df_amazon = changecolname(Col_dtype_to_float, df_amazon, \"Amazon\")\n",
    "df_tencent = changecolname(Col_dtype_to_float, df_tencent, \"Tencent\")"
   ]
  },
  {
   "cell_type": "code",
   "execution_count": 325,
   "metadata": {},
   "outputs": [],
   "source": [
    "#merge all Dataframes: \n",
    "df_ali_ama = df_alibaba.merge(df_amazon, how=\"inner\", on=\"Date\")\n",
    "df_all = df_ali_ama.merge(df_tencent, how=\"inner\", on=\"Date\")"
   ]
  },
  {
   "cell_type": "code",
   "execution_count": 341,
   "metadata": {},
   "outputs": [],
   "source": [
    "#get percantages of all Close Data \n",
    "\n",
    "def percentage(Dataframe, Liste, Name):\n",
    "    empty = list()\n",
    "    for x in Dataframe[Name + \"Close\"]:\n",
    "        if len(empty) < 0.1:\n",
    "            y = x\n",
    "        perc = x / y\n",
    "        empty.append(perc)\n",
    "    Liste = empty\n",
    "    return Liste\n",
    "\n",
    "ama = percentage(df_all, ama, \"Amazon\")\n",
    "ali = percentage(df_all, ali, \"Alibaba\")\n",
    "ten = percentage(df_all, ten, \"Tencent\")\n"
   ]
  },
  {
   "cell_type": "code",
   "execution_count": 344,
   "metadata": {},
   "outputs": [
    {
     "data": {
      "text/plain": [
       "[<matplotlib.lines.Line2D at 0x1629be240>,\n",
       " <matplotlib.lines.Line2D at 0x1629be2e8>,\n",
       " <matplotlib.lines.Line2D at 0x162b48160>]"
      ]
     },
     "execution_count": 344,
     "metadata": {},
     "output_type": "execute_result"
    },
    {
     "data": {
      "image/png": "[encoded data removed]",
      "text/plain": [
       "<Figure size 432x288 with 1 Axes>"
      ]
     },
     "metadata": {
      "needs_background": "light"
     },
     "output_type": "display_data"
    }
   ],
   "source": [
    "df_close_all = df_all[[\"AlibabaClose\",\"AmazonClose\",\"TencentClose\"]]\n",
    "plt.plot(df_close_all)"
   ]
  }
 ],
 "metadata": {
  "kernelspec": {
   "display_name": "Python 3",
   "language": "python",
   "name": "python3"
  },
  "language_info": {
   "codemirror_mode": {
    "name": "ipython",
    "version": 3
   },
   "file_extension": ".py",
   "mimetype": "text/x-python",
   "name": "python",
   "nbconvert_exporter": "python",
   "pygments_lexer": "ipython3",
   "version": "3.7.3"
  }
 },
 "nbformat": 4,
 "nbformat_minor": 2
}
